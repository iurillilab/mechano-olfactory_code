{
 "cells": [
  {
   "cell_type": "code",
   "execution_count": 2,
   "id": "1201df69-2c52-4f36-b5c8-33e5eebe44ab",
   "metadata": {},
   "outputs": [],
   "source": [
    "import numpy as np\n",
    "import pandas as pd\n",
    "import matplotlib.pyplot as plt\n",
    "from pathlib import Path\n",
    "import flammkuchen as fl\n",
    "import os\n",
    "import matplotlib.pyplot as plt\n",
    "import scipy.stats as stats"
   ]
  },
  {
   "cell_type": "code",
   "execution_count": 61,
   "id": "534d8b6e-edcc-469a-927e-7089b5dff1c7",
   "metadata": {},
   "outputs": [],
   "source": [
    "# load data\n",
    "data_set_path = Path(r'G:\\My Drive\\sinff-odor-project\\Figuers_data_Marh2023\\pseudoPopulationSpikeCount_100sample');\n",
    "#from os import walk\n",
    "#mouse_dir_name = next(walk(data_set_path), (None, None, []))[1]  # [] if no file\n",
    "\n",
    "result_save_path = Path(r\"D:\\Reza\\sniff-odor-progect_final_plots\\fig5_encoding_angle_full_space_data\")\n",
    "isExist = os.path.exists(result_save_path)\n",
    "if not isExist:\n",
    "   # Create a new directory because it does not exist\n",
    "   os.makedirs(result_save_path)\n"
   ]
  },
  {
   "cell_type": "code",
   "execution_count": 4,
   "id": "f1f1f3be-4388-49e4-b8e8-3a294fc8ea1c",
   "metadata": {},
   "outputs": [],
   "source": [
    "\n",
    "#load pseudo population\n",
    "import mat73\n",
    "pseudoPopulationSpikeCount_100sample =mat73.loadmat(\n",
    "    data_set_path / 'pseudoPopulationSpikeCount.mat')\n",
    "\n",
    "vector = np.vectorize(np.int_)\n",
    "pseudoPopulationSpikeCount = pseudoPopulationSpikeCount_100sample['pseudoPopulationSpikeCount']\n",
    "inhTypeId = vector(pseudoPopulationSpikeCount_100sample['inhTypeId'])\n",
    "concId = vector(pseudoPopulationSpikeCount_100sample['concId'])\n",
    "odorId = vector(pseudoPopulationSpikeCount_100sample['odorId'])"
   ]
  },
  {
   "cell_type": "code",
   "execution_count": 49,
   "id": "88bd0411-9eae-4f0a-8b5b-5842144e222d",
   "metadata": {},
   "outputs": [],
   "source": [
    "import math\n",
    "\n",
    "def angle_ransform(v1, v2):\n",
    "    cos_angle = np.dot(v1,v2)/np.linalg.norm(v1)/np.linalg.norm(v2) # -> cosine of the angle\n",
    "    angle_ra = np.arccos(np.clip(cos_angle, -1, 1)) # if you really want the angle\n",
    "    return abs(90 - math.degrees(angle_ra))"
   ]
  },
  {
   "cell_type": "code",
   "execution_count": 54,
   "id": "e9644871-f57b-4c66-84a3-7b8bec9deeb4",
   "metadata": {},
   "outputs": [],
   "source": [
    "from sklearn.discriminant_analysis import LinearDiscriminantAnalysis as LDA\n",
    "from sklearn.model_selection import cross_val_score\n",
    "from sklearn.model_selection import validation_curve, ShuffleSplit\n",
    "\n",
    "num_of_sample = 100\n",
    "num_of_odors = 2\n",
    "\n",
    "conc_fast_vs_sampling = np.empty((num_of_sample, num_of_odors))\n",
    "conc_slow_vs_sampling = np.empty((num_of_sample, num_of_odors))\n",
    "conc_fast_vs_conc_slow = np.empty((num_of_sample, num_of_odors))\n",
    "\n",
    "clf_fast = LDA(solver='eigen', shrinkage = 'auto');\n",
    "clf_slow = LDA(solver='eigen', shrinkage = 'auto');\n",
    "clf_samplin = LDA(solver='eigen', shrinkage = 'auto');\n",
    "\n",
    "for si in range(num_of_sample):\n",
    "    for oi in np.arange(1,3):\n",
    "        sample_data = (pseudoPopulationSpikeCount[:, :, si])\n",
    "\n",
    "        X_sampling = sample_data[odorId == oi, :]\n",
    "        y_sampling = inhTypeId[odorId == oi]\n",
    "\n",
    "        X_fast =  sample_data[(odorId == oi) & (inhTypeId == 1), :]\n",
    "        y_fast =  concId[(odorId == oi) & (inhTypeId == 1)]\n",
    "\n",
    "        X_slow =  sample_data[(odorId == oi) & (inhTypeId == 2),  :]\n",
    "        y_slow =  concId[(odorId == oi) & (inhTypeId == 2)]       \n",
    "\n",
    "\n",
    "        lda_tranformed_fast = clf_fast.fit(X_fast, y_fast)\n",
    "        lda_tranformed_slow = clf_slow.fit(X_slow, y_slow)\n",
    "        lda_inh_type = clf_samplin.fit(X_sampling, y_sampling)\n",
    "\n",
    "        fast_encoding_axis = clf_fast.scalings_[:, 0]\n",
    "        slow_encoding_axis = clf_slow.scalings_[:, 0]\n",
    "        sampling_axis = clf_samplin.scalings_[:, 0]\n",
    "        \n",
    "        conc_fast_vs_sampling[si, oi-1] = angle_ransform(fast_encoding_axis, sampling_axis)\n",
    "        conc_slow_vs_sampling[si, oi-1] = angle_ransform(slow_encoding_axis, sampling_axis)\n",
    "        conc_fast_vs_conc_slow[si, oi-1] = angle_ransform(fast_encoding_axis, slow_encoding_axis)"
   ]
  },
  {
   "cell_type": "code",
   "execution_count": 62,
   "id": "094b5b81-1529-4760-936d-781d4aa034a5",
   "metadata": {},
   "outputs": [],
   "source": [
    "from scipy.io import savemat\n",
    "mdic = {\"concVec_Stype_vs_samplingVec\": conc_fast_vs_sampling,\n",
    "        \"concVec_Rtype_vs_samplingVec\": conc_slow_vs_sampling,\n",
    "       \"concVec_Stype_vs_concVec_Rtype\": conc_fast_vs_conc_slow}\n",
    "savemat(result_save_path / \"encoding_angle_full_space_data.mat\", mdic)"
   ]
  }
 ],
 "metadata": {
  "kernelspec": {
   "display_name": "Python 3",
   "language": "python",
   "name": "python3"
  },
  "language_info": {
   "codemirror_mode": {
    "name": "ipython",
    "version": 3
   },
   "file_extension": ".py",
   "mimetype": "text/x-python",
   "name": "python",
   "nbconvert_exporter": "python",
   "pygments_lexer": "ipython3",
   "version": "3.8.8"
  }
 },
 "nbformat": 4,
 "nbformat_minor": 5
}
